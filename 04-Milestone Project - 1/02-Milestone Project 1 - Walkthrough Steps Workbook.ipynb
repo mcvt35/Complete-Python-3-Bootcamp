{
 "cells": [
  {
   "cell_type": "markdown",
   "metadata": {},
   "source": [
    "# Milestone Project 1: Walkthrough Steps Workbook\n",
    "\n",
    "Below is a set of steps for you to follow to try to create the Tic Tac Toe Milestone Project game!"
   ]
  },
  {
   "cell_type": "markdown",
   "metadata": {},
   "source": [
    "#### Some suggested tools before you get started:\n",
    "To take input from a user:\n",
    "\n",
    "    player1 = input(\"Please pick a marker 'X' or 'O'\")\n",
    "    \n",
    "Note that input() takes in a string. If you need an integer value, use\n",
    "\n",
    "    position = int(input('Please enter a number'))\n",
    "    \n",
    "<br>To clear the screen between moves:\n",
    "\n",
    "    from IPython.display import clear_output\n",
    "    clear_output()\n",
    "    \n",
    "Note that clear_output() will only work in jupyter. To clear the screen in other IDEs, consider:\n",
    "\n",
    "    print('\\n'*100)\n",
    "    \n",
    "This scrolls the previous board up out of view. Now on to the program!"
   ]
  },
  {
   "cell_type": "markdown",
   "metadata": {},
   "source": [
    "**Step 1: Write a function that can print out a board. Set up your board as a list, where each index 1-9 corresponds with a number on a number pad, so you get a 3 by 3 board representation.**"
   ]
  },
  {
   "cell_type": "code",
   "execution_count": 1,
   "metadata": {},
   "outputs": [
    {
     "name": "stdout",
     "output_type": "stream",
     "text": [
      "   |   |  \n",
      "------------\n",
      "   |   |  \n",
      "------------\n",
      "   |   |  \n"
     ]
    }
   ],
   "source": [
    "from IPython.display import clear_output\n",
    "boardState = [' ', ' ', ' ', ' ', ' ', ' ', ' ', ' ', ' ']\n",
    "\n",
    "def display_board(board):\n",
    "    print(f' {board[0]} | {board[1]} | {board[2]}')\n",
    "    print('------------')\n",
    "    print(f' {board[3]} | {board[4]} | {board[5]}')\n",
    "    print('------------')\n",
    "    print(f' {board[6]} | {board[7]} | {board[8]}')\n",
    "\n",
    "display_board(boardState)"
   ]
  },
  {
   "cell_type": "markdown",
   "metadata": {},
   "source": [
    "**TEST Step 1:** run your function on a test version of the board list, and make adjustments as necessary"
   ]
  },
  {
   "cell_type": "code",
   "execution_count": 2,
   "metadata": {},
   "outputs": [
    {
     "name": "stdout",
     "output_type": "stream",
     "text": [
      " # | X | O\n",
      "------------\n",
      " X | O | X\n",
      "------------\n",
      " O | X | O\n"
     ]
    }
   ],
   "source": [
    "test_board = ['#','X','O','X','O','X','O','X','O','X']\n",
    "display_board(test_board)"
   ]
  },
  {
   "cell_type": "markdown",
   "metadata": {},
   "source": [
    "**Step 2: Write a function that can take in a player input and assign their marker as 'X' or 'O'. Think about using *while* loops to continually ask until you get a correct answer.**"
   ]
  },
  {
   "cell_type": "code",
   "execution_count": 3,
   "metadata": {
    "collapsed": true
   },
   "outputs": [],
   "source": [
    "def player_input():\n",
    "    pInput = ''\n",
    "    while pInput != 'X' and pInput != 'O':\n",
    "        pInput = input('Player one, pick \"X\" or \"O\" as your marker: ')\n",
    "    \n",
    "    return pInput\n",
    "    "
   ]
  },
  {
   "cell_type": "markdown",
   "metadata": {},
   "source": [
    "**TEST Step 2:** run the function to make sure it returns the desired output"
   ]
  },
  {
   "cell_type": "code",
   "execution_count": 4,
   "metadata": {},
   "outputs": [],
   "source": [
    "#player_input()"
   ]
  },
  {
   "cell_type": "markdown",
   "metadata": {},
   "source": [
    "**Step 3: Write a function that takes in the board list object, a marker ('X' or 'O'), and a desired position (number 1-9) and assigns it to the board.**"
   ]
  },
  {
   "cell_type": "code",
   "execution_count": 5,
   "metadata": {
    "collapsed": true
   },
   "outputs": [],
   "source": [
    "def place_marker(board, marker, position):\n",
    "    board[position - 1] = marker"
   ]
  },
  {
   "cell_type": "markdown",
   "metadata": {},
   "source": [
    "**TEST Step 3:** run the place marker function using test parameters and display the modified board"
   ]
  },
  {
   "cell_type": "code",
   "execution_count": 6,
   "metadata": {},
   "outputs": [
    {
     "name": "stdout",
     "output_type": "stream",
     "text": [
      " # | X | O\n",
      "------------\n",
      " X | O | X\n",
      "------------\n",
      " O | $ | O\n"
     ]
    }
   ],
   "source": [
    "place_marker(test_board,'$',8)\n",
    "display_board(test_board)"
   ]
  },
  {
   "cell_type": "markdown",
   "metadata": {},
   "source": [
    "**Step 4: Write a function that takes in a board and a mark (X or O) and then checks to see if that mark has won. **"
   ]
  },
  {
   "cell_type": "code",
   "execution_count": 7,
   "metadata": {
    "collapsed": true
   },
   "outputs": [],
   "source": [
    "def win_check(board, mark):\n",
    "    if mark == board[0] == board[1] == board[2]:\n",
    "        return True\n",
    "    elif mark == board[3] == board[4] == board[5]:\n",
    "        return True\n",
    "    elif mark == board[6] == board[7] == board[8]:\n",
    "        return True\n",
    "    elif mark == board[0] == board[3] == board[6]:\n",
    "        return True\n",
    "    elif mark == board[1] == board[4] == board[7]:\n",
    "        return True\n",
    "    elif mark == board[2] == board[5] == board[8]:\n",
    "        return True\n",
    "    elif mark == board[0] == board[4] == board[8]:\n",
    "        return True\n",
    "    elif mark == board[2] == board[4] == board[6]:\n",
    "        return True\n",
    "    else:\n",
    "        return False"
   ]
  },
  {
   "cell_type": "markdown",
   "metadata": {},
   "source": [
    "**TEST Step 4:** run the win_check function against our test_board - it should return True"
   ]
  },
  {
   "cell_type": "code",
   "execution_count": 8,
   "metadata": {},
   "outputs": [
    {
     "data": {
      "text/plain": [
       "True"
      ]
     },
     "execution_count": 8,
     "metadata": {},
     "output_type": "execute_result"
    }
   ],
   "source": [
    "test_board[0] = 'X'\n",
    "test_board[1] = 'X'\n",
    "test_board[2] = 'X'\n",
    "win_check(test_board,'X')"
   ]
  },
  {
   "cell_type": "markdown",
   "metadata": {},
   "source": [
    "**Step 5: Write a function that uses the random module to randomly decide which player goes first. You may want to lookup random.randint() Return a string of which player went first.**"
   ]
  },
  {
   "cell_type": "code",
   "execution_count": 9,
   "metadata": {
    "collapsed": true
   },
   "outputs": [],
   "source": [
    "import random\n",
    "\n",
    "def choose_first():\n",
    "    if random.randint(1, 2) % 2 == 0:\n",
    "        return 1\n",
    "    else:\n",
    "        return 2"
   ]
  },
  {
   "cell_type": "markdown",
   "metadata": {},
   "source": [
    "**Step 6: Write a function that returns a boolean indicating whether a space on the board is freely available.**"
   ]
  },
  {
   "cell_type": "code",
   "execution_count": 10,
   "metadata": {
    "collapsed": true
   },
   "outputs": [],
   "source": [
    "def space_check(board, position):\n",
    "    if board[position] == ' ':\n",
    "        return True\n",
    "    else:\n",
    "        return False"
   ]
  },
  {
   "cell_type": "markdown",
   "metadata": {},
   "source": [
    "**Step 7: Write a function that checks if the board is full and returns a boolean value. True if full, False otherwise.**"
   ]
  },
  {
   "cell_type": "code",
   "execution_count": 11,
   "metadata": {},
   "outputs": [],
   "source": [
    "def full_board_check(board):\n",
    "    if ' ' not in board:\n",
    "        return True\n",
    "    else:\n",
    "        return False"
   ]
  },
  {
   "cell_type": "markdown",
   "metadata": {},
   "source": [
    "**Step 8: Write a function that asks for a player's next position (as a number 1-9) and then uses the function from step 6 to check if it's a free position. If it is, then return the position for later use.**"
   ]
  },
  {
   "cell_type": "code",
   "execution_count": 12,
   "metadata": {},
   "outputs": [],
   "source": [
    "def player_choice(board):\n",
    "    pInput = -1\n",
    "    while pInput > 9 or pInput < 1 or not space_check(board, pInput - 1):\n",
    "        pInput = int(input('Choose a position to place your marker! (1-9): '))\n",
    "    \n",
    "    return pInput - 1"
   ]
  },
  {
   "cell_type": "markdown",
   "metadata": {},
   "source": [
    "**Step 9: Write a function that asks the player if they want to play again and returns a boolean True if they do want to play again.**"
   ]
  },
  {
   "cell_type": "code",
   "execution_count": 13,
   "metadata": {
    "collapsed": true
   },
   "outputs": [],
   "source": [
    "def replay():\n",
    "    pInput = ''\n",
    "    while pInput != 'y' and pInput != 'n':\n",
    "        pInput = input('Do you want to play again? (y/n): ')\n",
    "    if pInput == 'y':\n",
    "        return True\n",
    "    else:\n",
    "        return False"
   ]
  },
  {
   "cell_type": "markdown",
   "metadata": {
    "collapsed": true
   },
   "source": [
    "**Step 10: Here comes the hard part! Use while loops and the functions you've made to run the game!**"
   ]
  },
  {
   "cell_type": "code",
   "execution_count": 14,
   "metadata": {},
   "outputs": [
    {
     "name": "stdout",
     "output_type": "stream",
     "text": [
      "Welcome to Tic Tac Toe!\n",
      "Player one, pick \"X\" or \"O\" as your marker: X\n",
      "   |   |  \n",
      "------------\n",
      "   |   |  \n",
      "------------\n",
      "   |   |  \n",
      "Player one: \n",
      "Choose a position to place your marker! (1-9): 1\n",
      " X |   |  \n",
      "------------\n",
      "   |   |  \n",
      "------------\n",
      "   |   |  \n",
      "Player two: \n",
      "Choose a position to place your marker! (1-9): 2\n",
      " X | O |  \n",
      "------------\n",
      "   |   |  \n",
      "------------\n",
      "   |   |  \n",
      "Player one: \n",
      "Choose a position to place your marker! (1-9): 3\n",
      " X | O | X\n",
      "------------\n",
      "   |   |  \n",
      "------------\n",
      "   |   |  \n",
      "Player two: \n",
      "Choose a position to place your marker! (1-9): 4\n",
      " X | O | X\n",
      "------------\n",
      " O |   |  \n",
      "------------\n",
      "   |   |  \n",
      "Player one: \n",
      "Choose a position to place your marker! (1-9): 5\n",
      " X | O | X\n",
      "------------\n",
      " O | X |  \n",
      "------------\n",
      "   |   |  \n",
      "Player two: \n",
      "Choose a position to place your marker! (1-9): 6\n",
      " X | O | X\n",
      "------------\n",
      " O | X | O\n",
      "------------\n",
      "   |   |  \n",
      "Player one: \n",
      "Choose a position to place your marker! (1-9): 7\n",
      "Player one wins!!!\n",
      " X | O | X\n",
      "------------\n",
      " O | X | O\n",
      "------------\n",
      " X |   |  \n",
      "Do you want to play again? (y/n): n\n"
     ]
    }
   ],
   "source": [
    "print('Welcome to Tic Tac Toe!')\n",
    "\n",
    "#while True:\n",
    "while True:\n",
    "    p1Symbol = player_input()\n",
    "    p2Symbol = ''\n",
    "    if p1Symbol == 'X':\n",
    "        p2Symbol = 'O'\n",
    "    else:\n",
    "        p2Symbol = 'X'\n",
    "    \n",
    "    board = [' ', ' ', ' ', ' ', ' ', ' ', ' ', ' ', ' ']\n",
    "    whoTurn = choose_first()\n",
    "    # Set the game up here\n",
    "    #pass\n",
    "\n",
    "    #while game_on:\n",
    "    while True:\n",
    "        if whoTurn == 1:\n",
    "            display_board(board)\n",
    "            print('Player one: ')\n",
    "            board[player_choice(board)] = p1Symbol\n",
    "            if win_check(board, p1Symbol):\n",
    "                print('Player one wins!!!')\n",
    "                display_board(board)\n",
    "                break\n",
    "            elif full_board_check(board):\n",
    "                print('Tie!!!')\n",
    "                display_board(board)\n",
    "                break\n",
    "            \n",
    "            display_board(board)\n",
    "            print('Player two: ')\n",
    "            board[player_choice(board)] = p2Symbol\n",
    "            if win_check(board, p2Symbol):\n",
    "                print('Player two wins!!!')\n",
    "                display_board(board)\n",
    "                break\n",
    "            elif full_board_check(board):\n",
    "                print('Tie!!!')\n",
    "                display_board(board)\n",
    "                break\n",
    "        else:\n",
    "            display_board(board)\n",
    "            print('Player two: ')\n",
    "            board[player_choice(board)] = p2Symbol\n",
    "            if win_check(board, p2Symbol):\n",
    "                print('Player two wins!!!')\n",
    "                display_board(board)\n",
    "                break\n",
    "            elif full_board_check(board):\n",
    "                print('Tie!!!')\n",
    "                display_board(board)\n",
    "                break\n",
    "            \n",
    "            display_board(board)\n",
    "            print('Player one: ')\n",
    "            board[player_choice(board)] = p1Symbol\n",
    "            if win_check(board, p1Symbol):\n",
    "                print('Player one wins!!!')\n",
    "                display_board(board)\n",
    "                break\n",
    "            elif full_board_check(board):\n",
    "                print('Tie!!!')\n",
    "                display_board(board)\n",
    "                break\n",
    "        #Player 1 Turn\n",
    "        \n",
    "        \n",
    "        # Player2's turn.\n",
    "            \n",
    "            #pass\n",
    "    if not replay():\n",
    "        break\n",
    "    #if not replay():\n",
    "        #break"
   ]
  },
  {
   "cell_type": "markdown",
   "metadata": {
    "collapsed": true
   },
   "source": [
    "## Good Job!"
   ]
  }
 ],
 "metadata": {
  "kernelspec": {
   "display_name": "Python 3",
   "language": "python",
   "name": "python3"
  },
  "language_info": {
   "codemirror_mode": {
    "name": "ipython",
    "version": 3
   },
   "file_extension": ".py",
   "mimetype": "text/x-python",
   "name": "python",
   "nbconvert_exporter": "python",
   "pygments_lexer": "ipython3",
   "version": "3.6.2"
  }
 },
 "nbformat": 4,
 "nbformat_minor": 1
}
