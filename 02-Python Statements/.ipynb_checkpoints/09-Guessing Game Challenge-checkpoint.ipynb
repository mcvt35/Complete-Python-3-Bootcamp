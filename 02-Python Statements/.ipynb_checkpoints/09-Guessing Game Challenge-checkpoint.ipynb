{
 "cells": [
  {
   "cell_type": "markdown",
   "metadata": {},
   "source": [
    "# Guessing Game Challenge\n",
    "\n",
    "Let's use `while` loops to create a guessing game.\n",
    "\n",
    "The Challenge:\n",
    "\n",
    "Write a program that picks a random integer from 1 to 100, and has players guess the number. The rules are:\n",
    "\n",
    "1. If a player's guess is less than 1 or greater than 100, say \"OUT OF BOUNDS\"\n",
    "2. On a player's first turn, if their guess is\n",
    " * within 10 of the number, return \"WARM!\"\n",
    " * further than 10 away from the number, return \"COLD!\"\n",
    "3. On all subsequent turns, if a guess is \n",
    " * closer to the number than the previous guess return \"WARMER!\"\n",
    " * farther from the number than the previous guess, return \"COLDER!\"\n",
    "4. When the player's guess equals the number, tell them they've guessed correctly *and* how many guesses it took!\n",
    "\n",
    "You can try this from scratch, or follow the steps outlined below. A separate Solution notebook has been provided. Good luck!\n"
   ]
  },
  {
   "cell_type": "markdown",
   "metadata": {},
   "source": [
    "#### First, pick a random integer from 1 to 100 using the random module and assign it to a variable\n",
    "\n",
    "Note: `random.randint(a,b)` returns a random integer in range `[a, b]`, including both end points."
   ]
  },
  {
   "cell_type": "code",
   "execution_count": 2,
   "metadata": {
    "collapsed": true
   },
   "outputs": [],
   "source": [
    "from random import randint\n",
    "targetInt = randint(1, 100)"
   ]
  },
  {
   "cell_type": "markdown",
   "metadata": {},
   "source": [
    "#### Next, print an introduction to the game and explain the rules"
   ]
  },
  {
   "cell_type": "code",
   "execution_count": 3,
   "metadata": {},
   "outputs": [
    {
     "name": "stdout",
     "output_type": "stream",
     "text": [
      "Welcome to the guessing game!\n",
      "Guess a number between 1 and 100\n",
      "Guess the correct number to win!\n"
     ]
    }
   ],
   "source": [
    "print('Welcome to the guessing game!')\n",
    "print('Guess a number between 1 and 100')\n",
    "print('Guess the correct number to win!')"
   ]
  },
  {
   "cell_type": "markdown",
   "metadata": {},
   "source": [
    "#### Create a list to store guesses\n",
    "\n",
    "Hint: zero is a good placeholder value. It's useful because it evaluates to \"False\""
   ]
  },
  {
   "cell_type": "code",
   "execution_count": 4,
   "metadata": {},
   "outputs": [
    {
     "data": {
      "text/plain": [
       "list"
      ]
     },
     "execution_count": 4,
     "metadata": {},
     "output_type": "execute_result"
    }
   ],
   "source": [
    "guessInt = 0\n",
    "list\n"
   ]
  },
  {
   "cell_type": "markdown",
   "metadata": {},
   "source": [
    "#### Write a `while` loop that asks for a valid guess. Test it a few times to make sure it works."
   ]
  },
  {
   "cell_type": "code",
   "execution_count": null,
   "metadata": {},
   "outputs": [
    {
     "name": "stdout",
     "output_type": "stream",
     "text": [
      "Guess a number! 25\n"
     ]
    }
   ],
   "source": [
    "while True:\n",
    "    guessInt = int(input(\"Guess a number! \"))\n",
    "    if guessInt < 1 or guessInt > 100:\n",
    "        print(\"OUT OF BOUNDS!\")\n",
    "    else:\n",
    "        break"
   ]
  },
  {
   "cell_type": "markdown",
   "metadata": {},
   "source": [
    "#### Write a `while` loop that compares the player's guess to our number. If the player guesses correctly, break from the loop. Otherwise, tell the player if they're warmer or colder, and continue asking for guesses.\n",
    "\n",
    "Some hints:\n",
    "* it may help to sketch out all possible combinations on paper first!\n",
    "* you can use the `abs()` function to find the positive difference between two numbers\n",
    "* if you append all new guesses to the list, then the previous guess is given as `guesses[-2]`"
   ]
  },
  {
   "cell_type": "code",
   "execution_count": 1,
   "metadata": {},
   "outputs": [
    {
     "name": "stdout",
     "output_type": "stream",
     "text": [
      "Guess a number! 50\n",
      "COLD!\n",
      "2\n",
      "[0, 50]\n",
      "Guess a number! 25\n",
      "WARMER!\n",
      "3\n",
      "[0, 50, 25]\n",
      "Guess a number! 13\n",
      "COLDER!\n",
      "4\n",
      "[0, 50, 25, 13]\n",
      "Guess a number! 30\n",
      "WARMER!\n",
      "5\n",
      "[0, 50, 25, 13, 30]\n",
      "Guess a number! 33\n",
      "WARMER!\n",
      "6\n",
      "[0, 50, 25, 13, 30, 33]\n",
      "Guess a number! 36\n",
      "YOU WIN!\n",
      "And it only took you 6 guesses!\n"
     ]
    }
   ],
   "source": [
    "from random import randint\n",
    "targetInt = randint(1, 100)\n",
    "guesses = [0]\n",
    "while True:\n",
    "    # we can copy the code from above to take an input\n",
    "    while True:\n",
    "        guessInt = int(input(\"Guess a number! \"))\n",
    "        if guessInt < 1 or guessInt > 100:\n",
    "            print(\"OUT OF BOUNDS!\")\n",
    "        else:\n",
    "            guesses.append(guessInt)\n",
    "            break\n",
    "    \n",
    "    if guessInt == targetInt:\n",
    "        print(\"YOU WIN!\")\n",
    "        print(\"And it only took you {} guesses!\".format(len(guesses) - 1))\n",
    "        break\n",
    "    elif len(guesses) == 2:\n",
    "        if guessInt > targetInt and guessInt < targetInt + 10:\n",
    "            print(\"WARM!\")\n",
    "        elif guessInt < targetInt and guessInt > targetInt - 10:\n",
    "            print(\"WARM!\")\n",
    "        else:\n",
    "            print(\"COLD!\")\n",
    "    else:\n",
    "        if abs(targetInt - guessInt) < abs(targetInt - guesses[-2]):\n",
    "            print(\"WARMER!\")\n",
    "        else:\n",
    "            print(\"COLDER!\")\n",
    "    print(len(guesses))\n",
    "    print(guesses)"
   ]
  },
  {
   "cell_type": "markdown",
   "metadata": {},
   "source": [
    "That's it! You've just programmed your first game!\n",
    "\n",
    "In the next section we'll learn how to turn some of these repetitive actions into *functions* that can be called whenever we need them."
   ]
  },
  {
   "cell_type": "markdown",
   "metadata": {},
   "source": [
    "### Good Job!"
   ]
  },
  {
   "cell_type": "code",
   "execution_count": null,
   "metadata": {
    "collapsed": true
   },
   "outputs": [],
   "source": []
  },
  {
   "cell_type": "code",
   "execution_count": null,
   "metadata": {
    "collapsed": true
   },
   "outputs": [],
   "source": []
  }
 ],
 "metadata": {
  "kernelspec": {
   "display_name": "Python 3",
   "language": "python",
   "name": "python3"
  },
  "language_info": {
   "codemirror_mode": {
    "name": "ipython",
    "version": 3
   },
   "file_extension": ".py",
   "mimetype": "text/x-python",
   "name": "python",
   "nbconvert_exporter": "python",
   "pygments_lexer": "ipython3",
   "version": "3.6.2"
  }
 },
 "nbformat": 4,
 "nbformat_minor": 2
}
